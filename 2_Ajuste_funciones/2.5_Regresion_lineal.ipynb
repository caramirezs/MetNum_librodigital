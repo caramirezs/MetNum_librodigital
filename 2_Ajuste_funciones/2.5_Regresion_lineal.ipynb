{
 "cells": [
  {
   "cell_type": "markdown",
   "metadata": {},
   "source": [
    "# 2.5 Regresión lineal"
   ]
  },
  {
   "cell_type": "markdown",
   "metadata": {},
   "source": [
    "## Funciones en python"
   ]
  },
  {
   "cell_type": "code",
   "execution_count": 22,
   "metadata": {},
   "outputs": [],
   "source": [
    "import numpy as np #Librería numérica\n",
    "import matplotlib.pyplot as plt # Para crear gráficos con matplotlib\n",
    "from sklearn.linear_model import LinearRegression #Regresión Lineal con scikit-learn\n",
    "from sklearn.metrics import mean_squared_error # importamos el cálculo del error cuadrático medio (MSE)\n",
    "#%matplotlib inline # Si quieres hacer estos gráficos dentro de un jupyter notebook\n",
    "\n",
    "def linear_regression(x, y):\n",
    "\n",
    "    regresion_lineal = LinearRegression() # creamos una instancia de LinearRegression\n",
    "    x = x.reshape(-1,1)\n",
    "    # instruimos a la regresión lineal que aprenda de los datos (x,y)\n",
    "    regresion_lineal.fit(x, y) \n",
    "\n",
    "    r_sq = regresion_lineal.score(x, y)\n",
    "    print('coefficient of determination:', r_sq)\n",
    "\n",
    "    print(f'Regresión lineal: y = {regresion_lineal.coef_[0]:3f}x + {regresion_lineal.intercept_:3f}')\n",
    "    \n",
    "    f_lin = lambda x: regresion_lineal.coef_[0]*x + regresion_lineal.intercept_\n",
    "    \n",
    "    ##******************************\n",
    "    y_pred = regresion_lineal.predict(x)\n",
    "    print('Predicted response99:', y_pred, sep='\\n')\n",
    "    \n",
    "    # Calculamos el Error Cuadrático Medio (MSE = Mean Squared Error)\n",
    "    mse = mean_squared_error(y_true = y, y_pred = y_pred)\n",
    "    # La raíz cuadrada del MSE es el RMSE\n",
    "    rmse = np.sqrt(mse)\n",
    "    print('Error Cuadrático Medio (MSE) = ' + str(mse))\n",
    "    print('Raíz del Error Cuadrático Medio (RMSE) = ' + str(rmse))\n",
    "    ##******************************\n",
    "    \n",
    "    xi = np.linspace(np.min(x),np.max(x),1001)\n",
    "    plt.plot(x, y,'o')\n",
    "    plt.plot(xi, f_lin(xi),'-')\n",
    "    plt.title('Regresión Lineal')\n",
    "    plt.show()\n",
    "\n",
    "\n",
    "def linear_regression_sin(x, y):  \n",
    "    sum_xi = np.sum(x)\n",
    "    sum_xi_2 = np.sum(x**2)\n",
    "    sum_yi = np.sum(y)\n",
    "    sum_xiyi = np.sum(x*y)\n",
    "    print(f'sum_xi: {sum_xi:.3f}, sum_xi_2: {sum_xi_2:.3f}')\n",
    "    print(f'sum_yi: {sum_yi:.3f}, sum_xiyi: {sum_xiyi:.3f}')\n",
    "    a = np.array([[sum_xi_2, sum_xi],\n",
    "                [sum_xi, len(x)]])\n",
    "    b = np.array([sum_xiyi ,sum_yi])\n",
    "    solve = np.linalg.solve(a, b)\n",
    "    print(f'Solución del sistema: {solve}')\n",
    "    print(f'Regresión lineal: y = {solve[0]:.3f}x + {solve[1]:.3f}')\n",
    "\n",
    "\n",
    "    f_lin = lambda x: solve[0]*x + solve[1]\n",
    "    #grafica\n",
    "    xi = np.linspace(np.min(x),np.max(x),1001)\n",
    "    plt.plot(x, y,'o')\n",
    "    plt.plot(xi, f_lin(xi),'-')\n",
    "    plt.show()\n"
   ]
  },
  {
   "cell_type": "markdown",
   "metadata": {},
   "source": [
    "\n",
    "La regresión lineal es una técnica paramétrica de machine learning. Con «paramétrica» queremos decir que incluso antes de mirar a los datos, ya sabemos cuántos parámetros (o coeficientes) vamos a necesitar.\n",
    "\n",
    "En el caso que estemos usando una sola variable, $x$, sabemos que una línea necesita 2 parámetros. La fórmula para la regresión lineal con una sola variable $x$ es:\n",
    "\n",
    "$$\n",
    "y=wx+b\n",
    "$$\n",
    "\n",
    "El aprendizaje consiste en encontrar cuáles son los mejores parámetros (coeficientes) para los datos que tengamos. Los mejores coeficientes serán los que minimicen alguna medida de error. Para la regresión lineal usaremos el error cuadrático medio.\n",
    "\n",
    "### Ejemplo de Regresión Lineal\n",
    "\n",
    "\n",
    "<img src=\"imagenes/regresion_lineal.png\" title=\"Title text\"/>\n",
    "\n",
    "*Imagen de la pagína [www.iartificial.net](https://www.iartificial.net/regresion-lineal-con-ejemplos-en-python/)*\n",
    "\n",
    "Hemos usado una regresión lineal para encontrar los parámetros de la línea que minimiza el error de los datos que tenemos. El proceso de aprendizaje consiste en estimar los parámetros $w$ y $b$. Así nos queda que para estos datos, los mejores valores son: \n",
    "\n",
    "$$\n",
    " w=0.0918\n",
    " b=1.2859\n",
    "$$\n",
    "\n",
    "así que nos queda:\n",
    "\n",
    "$$\n",
    "    y=0.0918x+1.2859\n",
    "$$\n",
    "\n",
    "Podemos usar este modelo de regresión lineal para estimar cuáles serán los resultados para otros valores de $x$. Por ejemplo, si queremos saber el resultado para $x = 5$, usaremos el modelo anterior y veremos que el resultado es 1.7449:\n",
    "\n",
    "$$\n",
    "    y=0.0918⋅5+1.2859=1.7449\n",
    "$$\n",
    "\n",
    "Este es un ejemplo muy simple. En realidad, los problemas de machine learning tienen muchas más variables. Sin embargo, he escogido este ejemplo porque es muy fácil de visualizar, explicar y entender. Espero que la intuición de este ejemplo sirva para entender lo que está pasando cuando haya más variables.\n",
    "\n",
    "\n",
    "Antes de explicar el método de los mínimos cuadrados para resolver regresiones lineales, tenemos que expandir la notación. Debemos tener en cuenta que normalmente, tendremos muchas variables.\n",
    "\n",
    "Con una variable, la ecuación para la regresión lineal es:\n",
    "$$\n",
    "y = wx + b\n",
    "$$\n",
    "\n",
    "Por conveniencia, vamos a reescribir la ecuación anterior:\n",
    "$$\n",
    "y = b + wx\n",
    "$$\n",
    "Cuando tengamos un dato con N variables, llamaremos al dato X. También tenemos que expandir los parámetros W para que cada parámetro vaya con una variable:\n",
    "$$\n",
    "X = [x_0, x_1, x_2, ..., x_N] \\\\ W = [w_0, w_1, w_2, ..., w_N]\n",
    "$$\n",
    "nos queda una expresión equivalente a la original. Podemos ver que:\n",
    "$$\n",
    "y = b + wx = w_0 x_0 + w_1 x_1\n",
    "$$\n",
    " \n",
    "Para el caso general, la ecuación lineal quedaría:\n",
    "\n",
    "$$\n",
    "y = WX\n",
    "$$\n",
    "usando el producto matricial. Si tienes la multiplicación de matrices un poco oxidada, la versión intuitiva sería:\n",
    "\n",
    "$$\n",
    "y = w_0 x_0 + w_1 x_1 + w_2 x_2 + ... + w_N x_N\n",
    "$$\n",
    "\n",
    "### Formato de los datos\n",
    "\n",
    "Para que la técnica de regresión lineal pueda aprender de nuestros datos, tenemos que proporcionar los resultados y en forma de vector de M elementos, y los datos de entrada X en forma de matrix. El convenio para la matriz $X$ es el siguiente:\n",
    "\n",
    "- $M$ filas: cada fila es un dato (por ejemplo, un inmueble, si queremos predecir su valor de venta)\n",
    "- $N$ columnas: cada columna es un atributo relevante (por ejemplo, cuántas habitaciones tiene, metros cuadrados, etc).\n",
    "\n",
    "### Aprendizaje: El método de los mínimos cuadrados\n",
    "​\n",
    "El proceso de aprendizaje consiste en averiguar qué parámetros $W$ minimizan el error cuadrático medio entre los resultados reales y los estimados.\n",
    "\n",
    "El método de los mínimos cuadrados proporciona una solución analítica. Es decir, nos da una fórmula para obtener la mejor estimación posible de $W$ para los datos de entrada y resultados que hemos proporcionado. La fórmula es la siguiente:\n",
    "\n",
    "$$\n",
    "\\hat{W} = (X^T X)^{-1} X^T y\n",
    "$$\n",
    "\n",
    "En la práctica hay librerías numéricas que calculan automáticamente la mejor estimación de $W$ por nosotros. Ya veremos algún ejemplo práctico del cálculo de regresión lineal.\n",
    "\n",
    "De momento, sólo quería indicar que dependiendo de la cantidad de datos y atributos, puede ser una operación costosa computacionalmente hablando. Fíjate que hay que transponer matrices, multiplicar matrices e invertir matrices. Todo ello muy costoso computacionalmente para grandes cantidades de datos.\n"
   ]
  },
  {
   "cell_type": "markdown",
   "metadata": {},
   "source": [
    "### Ejemplo práctico 1\n",
    "\n",
    "Primero vamos a generar unos datos que siguen una línea, y le añadimos ruido gaussiano. Para ello usaremos la librería de python NumPy. La fórmula que he usado para generar los datos es:\n",
    "$$\n",
    "y = 0.1x + 1.25 + N(0, 0.2)\n",
    "$$"
   ]
  },
  {
   "cell_type": "code",
   "execution_count": 23,
   "metadata": {},
   "outputs": [
    {
     "name": "stdout",
     "output_type": "stream",
     "text": [
      "Utilizando la libreria LinearRegression\n",
      "coefficient of determination: 0.8943593637683117\n",
      "Regresión lineal: y = 0.091835x + 1.285879\n",
      "Predicted response99:\n",
      "[1.28587925 1.33179686 1.37771447 1.42363208 1.46954969 1.5154673\n",
      " 1.56138491 1.60730252 1.65322013 1.69913774 1.74505534 1.79097295\n",
      " 1.83689056 1.88280817 1.92872578 1.97464339 2.020561   2.06647861\n",
      " 2.11239622 2.15831383 2.20423144 2.25014905 2.29606666 2.34198426\n",
      " 2.38790187 2.43381948 2.47973709 2.5256547  2.57157231 2.61748992\n",
      " 2.66340753 2.70932514 2.75524275 2.80116036 2.84707797 2.89299558\n",
      " 2.93891318 2.98483079 3.0307484  3.07666601]\n",
      "Error Cuadrático Medio (MSE) = 0.03318522012927899\n",
      "Raíz del Error Cuadrático Medio (RMSE) = 0.18216810952875093\n"
     ]
    },
    {
     "data": {
      "image/png": "[encoded data removed]",
      "text/plain": [
       "<Figure size 432x288 with 1 Axes>"
      ]
     },
     "metadata": {
      "needs_background": "light"
     },
     "output_type": "display_data"
    },
    {
     "name": "stdout",
     "output_type": "stream",
     "text": [
      "****************************************\n",
      "Sin utilizando la libreria LinearRegression\n",
      "sum_xi: 390.000, sum_xi_2: 5135.000\n",
      "sum_yi: 87.251, sum_xiyi: 973.067\n",
      "Solución del sistema: [0.09183522 1.28587925]\n",
      "Regresión lineal: y = 0.092x + 1.286\n"
     ]
    },
    {
     "data": {
      "image/png": "[encoded data removed]",
      "text/plain": [
       "<Figure size 432x288 with 1 Axes>"
      ]
     },
     "metadata": {
      "needs_background": "light"
     },
     "output_type": "display_data"
    },
    {
     "name": "stdout",
     "output_type": "stream",
     "text": [
      "****************************************\n"
     ]
    }
   ],
   "source": [
    "f = lambda x: 0.1*x + 1.25 + 0.2*np.random.randn(x.shape[0])\n",
    "\n",
    "np.random.seed(42) # para poder reproducirlo\n",
    "#f = lambda x: 0.1*x + 1.25 + 0.2*np.random.randn(x.shape[0])\n",
    "x = np.arange(0, 20, 0.5) # generamos valores x de 0 a 20 en intervalos de 0.5\n",
    "y = f(x) # calculamos y a partir de la función que hemos generado\n",
    "\n",
    "print(\"Utilizando la libreria LinearRegression\")\n",
    "linear_regression(x, y)\n",
    "print(\"****************************************\")\n",
    "print(\"Sin utilizando la libreria LinearRegression\")\n",
    "linear_regression_sin(x, y)\n",
    "print(\"****************************************\")"
   ]
  }
 ],
 "metadata": {
  "kernelspec": {
   "display_name": "Python 3.7.9 64-bit",
   "language": "python",
   "name": "python3"
  },
  "language_info": {
   "codemirror_mode": {
    "name": "ipython",
    "version": 3
   },
   "file_extension": ".py",
   "mimetype": "text/x-python",
   "name": "python",
   "nbconvert_exporter": "python",
   "pygments_lexer": "ipython3",
   "version": "3.7.9"
  },
  "vscode": {
   "interpreter": {
    "hash": "d983aa2a2bc164ca145b74c30a077245dc65a11395320957faf99b524e3477cb"
   }
  }
 },
 "nbformat": 4,
 "nbformat_minor": 0
}
