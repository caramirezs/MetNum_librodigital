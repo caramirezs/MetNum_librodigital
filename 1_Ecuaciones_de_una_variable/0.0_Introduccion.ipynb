{
 "cells": [
  {
   "cell_type": "markdown",
   "source": [
    "[![Open In Colab](./imagenes/colab-badge.png)](https://colab.research.google.com/github/caramirezs/MetNum_librodigital/blob/master/1_Ecuaciones_de_una_variable/0.0_Introduccion.ipynb)"
   ],
   "metadata": {
    "collapsed": false
   }
  },
  {
   "cell_type": "markdown",
   "source": [
    "# Introducción a los métodos numéricos\n",
    "\n",
    "Los métodos numéricos son técnicas matemáticas utilizadas para encontrar soluciones aproximadas a problemas matemáticos que no tienen soluciones analíticas exactas. Estos métodos involucran el uso de algoritmos y técnicas computacionales para obtener soluciones aproximadas con un cierto grado de precisión.\n",
    "\n",
    "Además de encontrar soluciones aproximadas a problemas matemáticos sin solución analítica, los métodos numéricos también se utilizan para:\n",
    "1. Analizar el comportamiento de sistemas dinámicos complejos y su evolución a lo largo del tiempo.\n",
    "2. Optimizar diseños y sistemas complejos, como en la ingeniería de software, la optimización de procesos industriales y el diseño de productos.\n",
    "3. Realizar predicciones y simulaciones de fenómenos complejos en ciencias e ingeniería, como en la meteorología, la oceanografía y la biología.\n",
    "\n",
    "Es importante destacar que los métodos numéricos no son una alternativa a los métodos analíticos, sino que son complementarios. Los métodos analíticos siguen siendo importantes para obtener soluciones exactas en algunos problemas matemáticos, pero los métodos numéricos proporcionan soluciones útiles en situaciones en las que los métodos analíticos son ineficaces o no existen.\n",
    "\n",
    "Algunos ejemplos de problemas matemáticos que se resuelven con métodos numéricos incluyen la resolución de ecuaciones no lineales, la interpolación y aproximación de funciones, la integración y diferenciación numérica, la resolución de ecuaciones diferenciales ordinarias y parciales, entre otros.\n",
    "\n",
    "En el primer capítulo, nos enfocaremos en los métodos de solución de ecuaciones no lineales."
   ],
   "metadata": {
    "collapsed": false
   }
  },
  {
   "cell_type": "markdown",
   "source": [
    "## Convergencia, Estabilidad.\n",
    "\n",
    "La convergencia es un concepto fundamental en los métodos numéricos y se refiere a la capacidad del método para obtener soluciones precisas a medida que se aumenta el número de iteraciones. En otras palabras, la convergencia se refiere a la velocidad y la precisión con la que un método numérico se acerca a la solución exacta.\n",
    "\n",
    "El criterio de convergencia más comúnmente utilizado es el *error absoluto* o el *error relativo*. El error absoluto se  calcula como la diferencia entre el valor calculado y el valor exacto, mientras que el error relativo se calcula dividiendo el error absoluto por el valor exacto. En otras palabras, estos errores sirven para medir qué tan cerca está el valor calculado del valor exacto, el absoluto se expresa en unidades correspondientes al valor exacto y el relativo se expresa en términos porcentuales. Un método numérico se considera convergente si el error disminuye a medida que aumenta el número de iteraciones.\n",
    "\n",
    "Por otro lado, la estabilidad se refiere a la capacidad del método numérico para producir soluciones precisas y consistentes incluso cuando se introducen pequeñas perturbaciones en los datos de entrada. La estabilidad es importante porque los errores en los datos de entrada son inevitables en la práctica y pueden afectar la precisión de los resultados.\n",
    "\n",
    "Un método numérico se considera estable si produce soluciones precisas y consistentes incluso cuando se introducen pequeñas perturbaciones en los datos de entrada. La estabilidad es una propiedad importante de los métodos numéricos y debe ser considerada al elegir un método para resolver un problema específico."
   ],
   "metadata": {
    "collapsed": false
   }
  },
  {
   "cell_type": "markdown",
   "source": [
    "# Análisis del error para los métodos de solución de ecuaciones de una variable\n",
    "\n",
    "## Introducción\n",
    "El análisis del error es una parte fundamental de la resolución numérica de ecuaciones. Los métodos numéricos para la solución de ecuaciones son aproximaciones que dependen de los datos de entrada, la precisión de la máquina y la elección del método específico utilizado. Por lo tanto, es importante tener una comprensión clara del impacto del error en los resultados de los métodos numéricos y cómo se puede controlar.\n",
    "\n",
    "En esta sección, discutiremos el análisis del error en el contexto de la solución numérica de ecuaciones de una variable. Empezaremos por definir qué es el error en la solución numérica de ecuaciones, cómo se clasifica y por qué es importante. A continuación, discutiremos los diferentes tipos de errores que pueden ocurrir en la solución numérica de ecuaciones, incluyendo errores de redondeo y errores de truncamiento. Finalmente, describiremos cómo se pueden controlar estos errores mediante el ajuste de la precisión de la máquina, la selección de la tolerancia y el uso de iteraciones adicionales."
   ],
   "metadata": {
    "collapsed": false
   }
  },
  {
   "cell_type": "markdown",
   "source": [
    "## Error de truncamiento y de redondeo\n",
    "\n",
    "El error es una parte inevitable del proceso de medición y cálculo. En la ingeniería, el cálculo preciso es esencial para garantizar la seguridad y el éxito de los proyectos. Por lo tanto, es importante comprender los diferentes tipos de errores que pueden surgir durante los cálculos.  El error en la solución numérica de ecuaciones se puede clasificar en dos categorías principales: errores de redondeo y errores de truncamiento.\n",
    "\n",
    "El **error de truncamiento** es un tipo de error que surge debido a la necesidad de truncar o aproximar un número infinito o una serie infinita en un número finito de operaciones aritméticas, es decir, son aquellos que resultan al usar una aproximación en lugar de un procedimiento matemático exacto. Este tipo de error se produce porque los algoritmos utilizados en los métodos numéricos no pueden manejar números infinitos o series infinitas, y por lo tanto, deben truncar o aproximar los valores de entrada para producir una solución numérica. El error de truncamiento se produce debido a la limitación de los recursos informáticos utilizados en los cálculos numéricos y puede ser reducido mediante la utilización de algoritmos más precisos o mediante el aumento de la cantidad de recursos informáticos disponibles.\n",
    "\n",
    "Por otro lado, el **error de redondeo** se produce cuando se aproxima un número al *redondear* los dígitos decimales. Por ejemplo, si se toma el número $\\frac{1}{3}$ y se lo aproxima a 0.333, el error de redondeo es la diferencia entre el valor real y el valor aproximado, que es de aproximadamente 0.000333. Este tipo de error se puede minimizar utilizando técnicas de redondeo adecuadas y una mayor cantidad de dígitos significativos en los cálculos.\n",
    "\n",
    "Ambos tipos de errores son inevitables, pero se pueden minimizar utilizando técnicas adecuadas de aproximación y redondeo, y utilizando una mayor cantidad de dígitos significativos en los cálculos. En la ingeniería, estos errores pueden tener consecuencias graves, por lo que es importante tenerlos en minimizarlos en la medida de lo posible.\n",
    "\n",
    "Por ejemplo, en el diseño de puentes, el error de truncamiento y/o redondeo puede llevar a una sobrecarga en el puente, lo que puede tener consecuencias graves en términos de seguridad. En la planificación de proyectos de construcción, el error de cálculo puede llevar a un presupuesto insuficiente o a una programación inadecuada. En la industria de la fabricación, el error de cálculo puede llevar a la producción de piezas defectuosas y costosas.\n",
    "\n",
    "En resumen, el error de truncamiento y redondeo son tipos comunes de errores en los cálculos, que pueden tener consecuencias graves en la ingeniería. Es importante entender y controlar el error en la solución numérica de ecuaciones porque puede afectar significativamente la precisión y la validez de los resultados obtenidos. Un error demasiado grande puede hacer que una solución numérica sea inútil o incluso engañosa. Además, el análisis del error es esencial para la comparación y selección de diferentes métodos numéricos, ya que un método puede ser más efectivo que otro en términos de precisión y eficiencia.\n",
    "\n",
    "Los errores de redondeo se pueden controlar mediante la elección de una precisión adecuada de la máquina, lo que determina la cantidad de dígitos significativos que se almacenan en la memoria de la computadora. Una mayor precisión de la máquina puede reducir el error de redondeo, pero también aumenta los costos computacionales. En general, la elección de una precisión de la máquina adecuada es un compromiso entre la precisión deseada y el costo computacional asociado.\n",
    "\n",
    "Por otro lado, los errores de truncamiento se pueden controlar mediante la selección de una tolerancia apropiada. La tolerancia representa el nivel de precisión deseado en la solución numérica de la ecuación y se puede ajustar para controlar el error de truncamiento. Una tolerancia más pequeña generalmente da como resultado una solución más precisa, pero puede aumentar los costos computacionales y puede ser más susceptible a errores de redondeo.\n",
    "\n",
    "Además de ajustar la precisión de la máquina y la tolerancia, el uso de iteraciones adicionales también puede ayudar a controlar el error en la solución numérica de ecuaciones. Los métodos iterativos suelen ser más susceptibles a errores de truncamiento, pero pueden ser mejorados mediante el uso de iteraciones adicionales. La elección de un método adecuado y el uso de iteraciones adicionales pueden mejorar la precisión y reducir el error en la solución numérica de ecuaciones.\n",
    "\n",
    "Es importante destacar que el control del error es un proceso iterativo que requiere experimentación y ajuste para lograr una solución adecuada. Por lo tanto, es recomendable probar diferentes configuraciones de precisión de la máquina, tolerancia y método para encontrar la mejor combinación para una solución dada.\n"
   ],
   "metadata": {
    "collapsed": false
   }
  },
  {
   "cell_type": "markdown",
   "source": [
    "## Error absoluto y relativo\n",
    "El error es una medida de la diferencia entre el valor obtenido mediante un cálculo numérico y el valor real, exacto o teórico. Conocer el error en los cálculos numéricos es importante ya que nos indica la precisión de nuestras soluciones y si es necesario mejorarlas.\n",
    "\n",
    "Se puede calcular el error de dos maneras, el error absoluto y el error relativo. El error absoluto es la diferencia entre el valor exacto y el valor aproximado, es decir, $E_a = |x - \\hat{x}|$. Mientras que el error relativo es la relación entre el error absoluto y el valor exacto, es decir, $E_r = \\frac{E_a}{|x|}$.\n",
    "\n",
    "El criterio de convergencia más comúnmente utilizado es el error relativo. El error relativo se calcula como la diferencia entre el valor calculado y el valor exacto, dividido por el valor exacto. En otras palabras, el error relativo es una medida de qué tan cerca está el valor calculado del valor exacto y se expresa en términos porcentuales. Un método numérico se considera convergente si el error relativo disminuye a medida que aumenta el número de iteraciones.\n",
    "\n",
    "En la solución de ecuaciones con métodos numéricos, es importante conocer estos errores, ya que nos permiten evaluar la precisión de la solución obtenida y decidir cuándo es suficiente. Un error absoluto pequeño indica que la solución obtenida es muy cercana a la solución exacta, lo que indica una alta precisión. Por otro lado, un error relativo pequeño indica que la solución obtenida es muy cercana al valor real, independientemente de si es una solución exacta o no.\n",
    "\n",
    "Por ejemplo, en la ingeniería civil, al calcular la carga máxima que una estructura puede soportar, es importante conocer el error absoluto para asegurarnos de que la carga máxima calculada esté dentro de los límites seguros de la estructura. Además, el error relativo es importante en la evaluación de la precisión de los modelos de simulación utilizados para predecir el comportamiento de la estructura bajo diferentes condiciones. De esta manera, se puede ajustar el modelo para lograr una mayor precisión en la predicción.\n",
    "\n"
   ],
   "metadata": {
    "collapsed": false
   }
  },
  {
   "cell_type": "markdown",
   "source": [
    "## Métodos para estimar el error en la solución numérica de ecuaciones\n",
    "Existen varios métodos para estimar el error en la solución numérica de ecuaciones. Uno de los métodos más comunes es el método de comparación de soluciones, en el cual se utiliza un método exacto o una solución analítica para comparar la solución numérica obtenida. Al comparar la solución numérica con una solución exacta o analítica, es posible calcular el error absoluto o relativo. El error absoluto se calcula restando la solución numérica de la solución exacta o analítica, mientras que el error relativo se calcula dividiendo el error absoluto por la solución exacta o analítica.\n",
    "\n",
    "Otro método común para estimar el error en la solución numérica de ecuaciones es el método de los residuos. El método de los residuos se basa en la idea de que cualquier solución aproximada de una ecuación debe satisfacer una condición de residuos, la cual representa la diferencia entre el lado izquierdo y el derecho de la ecuación. Al calcular la norma del residuo, es posible obtener una medida del error en la solución numérica.\n",
    "\n",
    "También existen métodos de estimación de error basados en la propagación de errores. Estos métodos se basan en la propagación de errores de las entradas de la ecuación a la solución numérica. Estos métodos son útiles cuando la ecuación incluye entradas con errores conocidos o cuando se requiere una estimación del error para varias soluciones numéricas.\n",
    "\n",
    "En general, la elección del método de estimación de error adecuado depende de la naturaleza de la ecuación y del método numérico utilizado para resolverla. Es importante tener en cuenta que la estimación del error es una herramienta útil para evaluar la precisión de la solución numérica y para ajustar los parámetros del método numérico para mejorar la precisión."
   ],
   "metadata": {
    "collapsed": false
   }
  },
  {
   "cell_type": "markdown",
   "source": [
    "# Conclusiones\n",
    "El análisis del error y la convergencia son conceptos fundamentales en la solución numérica de ecuaciones. El control y la estimación del error son esenciales para garantizar la precisión y confiabilidad de los resultados numéricos. Además, el análisis de la convergencia y la tasa de convergencia nos permite evaluar la eficacia de los métodos numéricos utilizados y seleccionar el más adecuado para resolver una ecuación en particular.\n",
    "\n",
    "A continuación, veremos algunos métodos numéricos para la solución de ecuaciones de una variable, como el método de bisección, la falsa posición, de Newton-Raphson, el punto fijo y de la secante. Al final de la sección, también analizaremos el orden de los métodos de iteración y cómo esto afecta la tasa de convergencia y el análisis del error. Con estos conceptos en mente, podremos seleccionar y aplicar el método más adecuado para resolver una amplia variedad de ecuaciones de una variable de manera efectiva y precisa."
   ],
   "metadata": {
    "collapsed": false
   }
  },
  {
   "cell_type": "markdown",
   "source": [],
   "metadata": {
    "collapsed": false
   }
  }
 ],
 "metadata": {
  "kernelspec": {
   "display_name": "Python 3.7.9 64-bit",
   "language": "python",
   "name": "python3"
  },
  "language_info": {
   "codemirror_mode": {
    "name": "ipython",
    "version": 3
   },
   "file_extension": ".py",
   "mimetype": "text/x-python",
   "name": "python",
   "nbconvert_exporter": "python",
   "pygments_lexer": "ipython3",
   "version": "3.7.9"
  },
  "vscode": {
   "interpreter": {
    "hash": "d983aa2a2bc164ca145b74c30a077245dc65a11395320957faf99b524e3477cb"
   }
  }
 },
 "nbformat": 4,
 "nbformat_minor": 1
}
