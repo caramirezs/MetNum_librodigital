{
 "cells": [
  {
   "cell_type": "markdown",
   "metadata": {
    "collapsed": true,
    "pycharm": {
     "name": "#%% md\n"
    }
   },
   "source": [
    "# 1.2 Método *regula falsi*"
   ]
  },
  {
   "cell_type": "markdown",
   "metadata": {
    "collapsed": false,
    "pycharm": {
     "name": "#%% md\n"
    }
   },
   "source": [
    "[![Open In Colab](https://colab.research.google.com/assets/colab-badge.svg)](https://colab.research.google.com/github/caramirezs/MetNum_202210/blob/main/1_Ecuaciones_de_una_variable/1.2_Metodo_regula_falsi.ipynb)"
   ]
  },
  {
   "cell_type": "code",
   "execution_count": 1,
   "metadata": {
    "collapsed": false,
    "pycharm": {
     "name": "#%%\n"
    }
   },
   "outputs": [],
   "source": [
    "import numpy as np\n",
    "import numpy as np\n",
    "import matplotlib.pyplot as plt"
   ]
  },
  {
   "cell_type": "markdown",
   "metadata": {},
   "source": [
    "## Funciones en python"
   ]
  },
  {
   "cell_type": "code",
   "execution_count": 2,
   "metadata": {},
   "outputs": [],
   "source": [
    "def graficar(f, x_i, x_f, num=1000):\n",
    "        plt.style.use('seaborn')\n",
    "        plt.ion()\n",
    "        \"\"\"\n",
    "        Gráfica de funciones algebraicas\n",
    "        :param f: función, previamente definida\n",
    "        :param x_i: límite inferior del intervalo\n",
    "        :param x_f: límite superior del intervalo\n",
    "        :param num: división del intervalo\n",
    "        :return: gráfica de la función\n",
    "        \"\"\"\n",
    "        x = np.linspace(x_i, x_f, num)\n",
    "        fig, ax = plt.subplots(figsize=(20, 8))\n",
    "        ax.plot(x, f(x))\n",
    "        xmin, xmax = ax.get_xlim()\n",
    "        ymin, ymax = ax.get_ylim()\n",
    "        ax.annotate(\"\", xy=(xmax, 0), xytext=(xmin, 0), arrowprops=dict(color='gray', width=1.5, headwidth=8, headlength=10))\n",
    "        ax.annotate(\"\", xy=(0, ymax), xytext=(0, ymin), arrowprops=dict(color='gray', width=1.5, headwidth=8, headlength=10))\n",
    "        #plt.show()\n",
    "        \n",
    "        return None\n",
    "\n",
    "def met_regula_falsi(f, a, b, tol=1e-4, n=50, verbose=True, print_error=False, deploy_error=False):\n",
    "        \"\"\"\n",
    "        Método de regula falsi\n",
    "        :param f: Funcion a la que se le intenta encontrar una solucion\n",
    "        para la ecuacion f(x)=0, previamente definida\n",
    "        :param a: límite inferior\n",
    "        :param b: límite superior\n",
    "        :param tol: toleracia, criterio de parada\n",
    "        :param n: número máximo de iteraciones, criterio de parada\n",
    "        :param verbose:\n",
    "        :param print_error:\n",
    "        :param deploy_error:\n",
    "        :return: solución exacta o aproximada, si tiene.\n",
    "        \"\"\"\n",
    "        if not f(a) * f(b) < 0:\n",
    "            print(f'El intervalo no funciona: f({a})={f(a):.2f}, f({b})={f(b):.2f}')\n",
    "            return None\n",
    "        i = 1\n",
    "        lista_errores = [abs(b - a)]\n",
    "        p_0 = a\n",
    "        while i <= n:\n",
    "            p_i = a - (f(a) * (b - a)) / (f(b) - f(a))  # falsa posición\n",
    "            e_abs = abs(p_0 - p_i)\n",
    "            if verbose:\n",
    "                print(f'ite {i:<2}: a_{i - 1:<2} = {a:.4f}, b_{i - 1:<2} = {b:.4f}, p_{i:<2} = {p_i:.5f}'\n",
    "                    f' | e_abs: {e_abs:e}')\n",
    "\n",
    "            if f(p_i) == 0:\n",
    "                if print_error:\n",
    "                    print(f'error x iteración: {lista_errores}')\n",
    "                print(f'>>> Solución exacta encontrada después de {i} iteraciones: x->{p_i:.15f}')\n",
    "                if deploy_error:\n",
    "                    return lista_errores, p_i\n",
    "                else:\n",
    "                    return p_i\n",
    "            if f(a) * f(p_i) < 0:\n",
    "                b = p_i\n",
    "            else:\n",
    "                a = p_i\n",
    "            p_0 = p_i\n",
    "            lista_errores.append(e_abs)\n",
    "            if e_abs < tol:\n",
    "                if print_error:\n",
    "                    print(f'error x iteración: {lista_errores}')\n",
    "                print(f'>>> Solución encontrada después de {i} iteraciones: x->{p_i:.15f}')\n",
    "                if deploy_error:\n",
    "                    return lista_errores, p_i\n",
    "                else:\n",
    "                    return p_i\n",
    "            i += 1\n",
    "\n",
    "        if print_error:\n",
    "            print(f'error x iteración: {lista_errores}')\n",
    "        print('solución no encontrada, iteraciones agotadas')\n",
    "        return None    "
   ]
  },
  {
   "cell_type": "markdown",
   "metadata": {},
   "source": [
    "El **método de posición falsa** (también llamado *Regula Falsi*) genera aproximaciones\n",
    "de la misma manera que el método de la secante, pero incluye una prueba para garantizar que\n",
    "la raíz siempre se agrupa entre iteraciones sucesivas. A pesar de que no es un método que por\n",
    "lo general recomendamos, ilustra cómo se puede integrar la agrupación.\n",
    "\n",
    "Este método es un intento por aumentar la rapidez del método de bisección. Los algoritmos solo se\n",
    "diferencian en el punto del intervalo que calculan. Mientras en bisección es el punto medio, en regula\n",
    "falsi es el corte con el eje x de la recta que une los puntos extremos de la gráfica definida en el intervalo\n",
    "$[a_n, b_n]$.\n",
    "\n",
    "Si $a_n$ y $b_n$ son los extremos del intervalo, entonces la ecuación de la recta que contiene los puntos\n",
    "$(a_n, f(a_n))$ y $(b_n, f(n))$ es $y=\\frac{f(b_n) - f(a_n)}{b_n-a_n}(x-a_n)+f(a_n)$,y su corte con el eje $x, a_n-\\frac{f(a_n)(b_n - a_n)}{f(b_n)-f(a_n)}$, define el punto $c_n$, que se espera sea una mejor aproximación.\n",
    "\n",
    "**Observación:** las condiciones necesarias para asegurar la convergencia del método de regula falsi\n",
    "corresponden a las condiciones del método de bisección. Aunque no es posible aplicar la formula del\n",
    "método de bisección para calcular la cantidad de iteraciones necesarias en su ejecución, se espera lograr\n",
    "la precisión establecida en un menor número de iteraciones.\n",
    "\n",
    "### Sobre el método de **Regula Falsi** (*método de posición falsa*)\n",
    "\n",
    "El método sirve para encontrar un valor aproximado de $x$  de modo que $f(x) = 0$ y pertenece al tipo de métodos iterativos.\n",
    "\n",
    "Si $f(x)= 0$, entonces $x=y$, fin del calculo\n",
    "\n",
    "Dada una función $f(x)$ y sea continua en un intervalo $[a, b]$ se debe cumplir que $f(a)*f(b) < 0$, garantiza la convergencia\n",
    "\n",
    "**Parametros**\n",
    "\n",
    "* $f(x) =$ función de $x$\n",
    "* $[a, b] =$ Intervalos\n",
    "* $TOL$ = Tolerancia\n",
    "* $n-máx$ = Número máximo de iteraciones\n",
    "\n",
    "### El **método** explicado paso a paso:\n",
    "\n",
    "**Paso 1:** Evaluar $f(a)$ y $f(b)$\n",
    "\n",
    "**Paso 2:** Obtener $p_i$:\n",
    "\n",
    "$p_i = a_n-\\frac{f(a_n)(b_n - a_n)}{f(b_n)-f(a_n)}$\n",
    "\n",
    "**Paso 3:** Obtener $f(p_i)$:\n",
    "\n",
    "**Paso 4:** Determinar el intervalo\n",
    "\n",
    "\n",
    "**Paso 5:** Calcular el error:\n",
    "\n",
    "$eabs= |p_i-p_{i-1}|$\n",
    "\n",
    "$eabs < TOL \\to$ ***STOP***\n",
    "\n",
    "\n",
    "\n",
    "**Gráficamente de puede interpretar el método de Regular Falsi**\n",
    "\n",
    "<img src=\"imagenes/mregularfalsi.png\"/>\n",
    "\n",
    "*Imagen del libro de Burden - Análisis numérico 10ed (2017)*\n",
    "\n",
    "**************************************\n",
    "\n"
   ]
  },
  {
   "cell_type": "markdown",
   "metadata": {},
   "source": [
    "### Ejemplo práctico 1\n",
    "\n",
    "\n",
    "Resolver la ecuación $e^x - sin(x) = 3x = 0 $\n",
    "\n",
    "1. Graficar la ecuación en un intervalo a elección, para este caso el intervalo es $[0, 0.5]$:\n",
    "\n",
    "**Datos**\n",
    "\n",
    "$f(x) = e^x - sin(x) = 3x $\n",
    "\n",
    "$(a, b) = (0, 0.5)$\n",
    "\n",
    "$a = 0$\n",
    "\n",
    "$b = 0.5$\n",
    "\n",
    "Aproximación = $10^{-4}$\n",
    "\n",
    "**Procedimiento:**\n",
    "\n",
    "*Paso 1:* Se recomienda graficar antes de empezar el calculo\n",
    "\n",
    "*Paso 2:* Evaluar $f(a)$ y $f(b)$\n",
    "\n",
    "*Paso 3:* Obtener $p_i$\n",
    "\n",
    "\\begin{equation}\n",
    "p_i = a_n-\\frac{f(a_n)(b_n - a_n)}{f(b_n)-f(a_n)}\n",
    "\\end{equation}\n",
    "\n",
    "*Paso 4:* Obtener $f(p_i)$\n",
    "\n",
    "*Paso 5:* Determinar el nuevo intervalo\n",
    "\n",
    "*Paso 6:* Calcular el error  $eabs = |p_i-p_{i-1}|$\n",
    "\n",
    "*Nota:* El procedimiento de los *Pasos del 2 al 6* se realizan ejecutando el *met_regula_falsi()*"
   ]
  },
  {
   "cell_type": "code",
   "execution_count": 3,
   "metadata": {},
   "outputs": [
    {
     "data": {
      "image/png": "[encoded data removed]",
      "text/plain": [
       "<Figure size 1440x576 with 1 Axes>"
      ]
     },
     "metadata": {},
     "output_type": "display_data"
    }
   ],
   "source": [
    "# Función expresada en python\n",
    "f = lambda x: np.e**x - 3*np.sin(x) - 3*x\n",
    "graficar(f, 0, 0.5)"
   ]
  },
  {
   "cell_type": "code",
   "execution_count": 4,
   "metadata": {
    "collapsed": false,
    "pycharm": {
     "name": "#%%\n"
    }
   },
   "outputs": [
    {
     "name": "stdout",
     "output_type": "stream",
     "text": [
      "ite 1 : a_0  = 0.0000, b_0  = 0.5000, p_1  = 0.21838 | e_abs: 2.183830e-01\n",
      "ite 2 : a_1  = 0.0000, b_1  = 0.2184, p_2  = 0.20582 | e_abs: 1.256315e-02\n",
      "ite 3 : a_2  = 0.0000, b_2  = 0.2058, p_3  = 0.20540 | e_abs: 4.184166e-04\n",
      "ite 4 : a_3  = 0.0000, b_3  = 0.2054, p_4  = 0.20539 | e_abs: 1.374833e-05\n",
      ">>> Solución encontrada después de 4 iteraciones: x->0.205387697357079\n"
     ]
    },
    {
     "data": {
      "text/plain": [
       "0.205387697357079"
      ]
     },
     "execution_count": 4,
     "metadata": {},
     "output_type": "execute_result"
    }
   ],
   "source": [
    "met_regula_falsi(f, 0, 0.5, tol=1e-4)"
   ]
  },
  {
   "cell_type": "markdown",
   "metadata": {},
   "source": [
    "### Ejemplo práctico 2\n",
    "\n",
    "\n",
    "Resolver la ecuación $x^{10} -1 = 0$\n",
    "\n",
    "1. Graficar la ecuación en un intervalo a elección, para este caso el intervalo es $[0, 1.2]$:\n",
    "\n",
    "**Datos**\n",
    "\n",
    "$f(x) = x^{10} -1$\n",
    "\n",
    "$(a, b) = (0, 1.2)$\n",
    "\n",
    "$a = 0$\n",
    "\n",
    "$b = 1.2$\n",
    "\n",
    "Aproximación = $10^{-15}$\n",
    "\n",
    "**Procedimiento:**\n",
    "\n",
    "*Paso 1:* Se recomiennda graficar antes de empezar el calculo\n",
    "\n",
    "*Paso 2:* Evaluar $f(a)$ y $f(b)$\n",
    "\n",
    "*Paso 3:* Obtener $p_i$\n",
    "\n",
    "\\begin{equation}\n",
    "p_i = a_n-\\frac{f(a_n)(b_n - a_n)}{f(b_n)-f(a_n)}\n",
    "\\end{equation}\n",
    "\n",
    "*Paso 4:* Obtener $f(p_i)$\n",
    "\n",
    "*Paso 5:* Determunar el nuevo intervalo\n",
    "\n",
    "*Paso 6:* Calcular el error  $eabs = |p_i-p_{i-1}|$\n",
    "\n",
    "*Nota:* El procedimiento de los *Pasos del 2 al 6* se realizan ejecutando el *met_regula_falsi()*"
   ]
  },
  {
   "cell_type": "code",
   "execution_count": 5,
   "metadata": {
    "collapsed": false,
    "pycharm": {
     "name": "#%%\n"
    }
   },
   "outputs": [
    {
     "data": {
      "image/png": "[encoded data removed]",
      "text/plain": [
       "<Figure size 1440x576 with 1 Axes>"
      ]
     },
     "metadata": {},
     "output_type": "display_data"
    }
   ],
   "source": [
    "f = lambda x: x**10 - 1\n",
    "graficar(f, 0, 1.2)"
   ]
  },
  {
   "cell_type": "code",
   "execution_count": 6,
   "metadata": {},
   "outputs": [
    {
     "name": "stdout",
     "output_type": "stream",
     "text": [
      "ite 1 : a_0  = 0.0000, b_0  = 1.2000, p_1  = 0.19381 | e_abs: 1.938067e-01\n",
      "ite 2 : a_1  = 0.1938, b_1  = 1.2000, p_2  = 0.35631 | e_abs: 1.625058e-01\n",
      "ite 3 : a_2  = 0.3563, b_2  = 1.2000, p_3  = 0.49257 | e_abs: 1.362565e-01\n",
      "ite 4 : a_3  = 0.4926, b_3  = 1.2000, p_4  = 0.60674 | e_abs: 1.141735e-01\n",
      "ite 5 : a_4  = 0.6067, b_4  = 1.2000, p_5  = 0.70201 | e_abs: 9.527059e-02\n",
      "ite 6 : a_5  = 0.7020, b_5  = 1.2000, p_6  = 0.78047 | e_abs: 7.845796e-02\n",
      "ite 7 : a_6  = 0.7805, b_6  = 1.2000, p_7  = 0.84340 | e_abs: 6.292635e-02\n",
      "ite 8 : a_7  = 0.8434, b_7  = 1.2000, p_8  = 0.89193 | e_abs: 4.853266e-02\n",
      "ite 9 : a_8  = 0.8919, b_8  = 1.2000, p_9  = 0.92767 | e_abs: 3.574009e-02\n",
      "ite 10: a_9  = 0.9277, b_9  = 1.2000, p_10 = 0.95281 | e_abs: 2.513959e-02\n",
      "ite 11: a_10 = 0.9528, b_10 = 1.2000, p_11 = 0.96981 | e_abs: 1.699576e-02\n",
      "ite 12: a_11 = 0.9698, b_11 = 1.2000, p_12 = 0.98095 | e_abs: 1.114112e-02\n",
      "ite 13: a_12 = 0.9809, b_12 = 1.2000, p_13 = 0.98809 | e_abs: 7.142969e-03\n",
      "ite 14: a_13 = 0.9881, b_13 = 1.2000, p_14 = 0.99260 | e_abs: 4.510895e-03\n",
      "ite 15: a_14 = 0.9926, b_14 = 1.2000, p_15 = 0.99542 | e_abs: 2.820564e-03\n",
      "ite 16: a_15 = 0.9954, b_15 = 1.2000, p_16 = 0.99717 | e_abs: 1.752456e-03\n",
      "ite 17: a_16 = 0.9972, b_16 = 1.2000, p_17 = 0.99826 | e_abs: 1.084465e-03\n",
      "ite 18: a_17 = 0.9983, b_17 = 1.2000, p_18 = 0.99893 | e_abs: 6.694152e-04\n",
      "ite 19: a_18 = 0.9989, b_18 = 1.2000, p_19 = 0.99934 | e_abs: 4.125717e-04\n",
      "ite 20: a_19 = 0.9993, b_19 = 1.2000, p_20 = 0.99959 | e_abs: 2.540301e-04\n",
      "ite 21: a_20 = 0.9996, b_20 = 1.2000, p_21 = 0.99975 | e_abs: 1.563194e-04\n",
      "ite 22: a_21 = 0.9998, b_21 = 1.2000, p_22 = 0.99985 | e_abs: 9.615716e-05\n",
      "ite 23: a_22 = 0.9998, b_22 = 1.2000, p_23 = 0.99991 | e_abs: 5.913607e-05\n",
      "ite 24: a_23 = 0.9999, b_23 = 1.2000, p_24 = 0.99994 | e_abs: 3.636328e-05\n",
      "ite 25: a_24 = 0.9999, b_24 = 1.2000, p_25 = 0.99996 | e_abs: 2.235819e-05\n",
      "ite 26: a_25 = 1.0000, b_25 = 1.2000, p_26 = 0.99998 | e_abs: 1.374635e-05\n",
      "ite 27: a_26 = 1.0000, b_26 = 1.2000, p_27 = 0.99999 | e_abs: 8.451311e-06\n",
      "ite 28: a_27 = 1.0000, b_27 = 1.2000, p_28 = 0.99999 | e_abs: 5.195798e-06\n",
      "ite 29: a_28 = 1.0000, b_28 = 1.2000, p_29 = 0.99999 | e_abs: 3.194295e-06\n",
      "ite 30: a_29 = 1.0000, b_29 = 1.2000, p_30 = 1.00000 | e_abs: 1.963788e-06\n",
      "ite 31: a_30 = 1.0000, b_30 = 1.2000, p_31 = 1.00000 | e_abs: 1.207292e-06\n",
      "ite 32: a_31 = 1.0000, b_31 = 1.2000, p_32 = 1.00000 | e_abs: 7.422130e-07\n",
      "ite 33: a_32 = 1.0000, b_32 = 1.2000, p_33 = 1.00000 | e_abs: 4.562934e-07\n",
      "ite 34: a_33 = 1.0000, b_33 = 1.2000, p_34 = 1.00000 | e_abs: 2.805171e-07\n",
      "ite 35: a_34 = 1.0000, b_34 = 1.2000, p_35 = 1.00000 | e_abs: 1.724543e-07\n",
      "ite 36: a_35 = 1.0000, b_35 = 1.2000, p_36 = 1.00000 | e_abs: 1.060202e-07\n",
      "ite 37: a_36 = 1.0000, b_36 = 1.2000, p_37 = 1.00000 | e_abs: 6.517835e-08\n",
      "ite 38: a_37 = 1.0000, b_37 = 1.2000, p_38 = 1.00000 | e_abs: 4.006986e-08\n",
      "ite 39: a_38 = 1.0000, b_38 = 1.2000, p_39 = 1.00000 | e_abs: 2.463385e-08\n",
      "ite 40: a_39 = 1.0000, b_39 = 1.2000, p_40 = 1.00000 | e_abs: 1.514421e-08\n",
      "ite 41: a_40 = 1.0000, b_40 = 1.2000, p_41 = 1.00000 | e_abs: 9.310245e-09\n",
      "ite 42: a_41 = 1.0000, b_41 = 1.2000, p_42 = 1.00000 | e_abs: 5.723682e-09\n",
      "ite 43: a_42 = 1.0000, b_42 = 1.2000, p_43 = 1.00000 | e_abs: 3.518762e-09\n",
      "ite 44: a_43 = 1.0000, b_43 = 1.2000, p_44 = 1.00000 | e_abs: 2.163238e-09\n",
      "ite 45: a_44 = 1.0000, b_44 = 1.2000, p_45 = 1.00000 | e_abs: 1.329899e-09\n",
      "ite 46: a_45 = 1.0000, b_45 = 1.2000, p_46 = 1.00000 | e_abs: 8.175853e-10\n",
      "ite 47: a_46 = 1.0000, b_46 = 1.2000, p_47 = 1.00000 | e_abs: 5.026289e-10\n",
      "ite 48: a_47 = 1.0000, b_47 = 1.2000, p_48 = 1.00000 | e_abs: 3.090024e-10\n",
      "ite 49: a_48 = 1.0000, b_48 = 1.2000, p_49 = 1.00000 | e_abs: 1.899662e-10\n",
      "ite 50: a_49 = 1.0000, b_49 = 1.2000, p_50 = 1.00000 | e_abs: 1.167859e-10\n",
      "ite 51: a_50 = 1.0000, b_50 = 1.2000, p_51 = 1.00000 | e_abs: 7.179679e-11\n",
      "ite 52: a_51 = 1.0000, b_51 = 1.2000, p_52 = 1.00000 | e_abs: 4.413869e-11\n",
      "ite 53: a_52 = 1.0000, b_52 = 1.2000, p_53 = 1.00000 | e_abs: 2.713529e-11\n",
      "ite 54: a_53 = 1.0000, b_53 = 1.2000, p_54 = 1.00000 | e_abs: 1.668199e-11\n",
      "ite 55: a_54 = 1.0000, b_54 = 1.2000, p_55 = 1.00000 | e_abs: 1.025557e-11\n",
      "ite 56: a_55 = 1.0000, b_55 = 1.2000, p_56 = 1.00000 | e_abs: 6.304846e-12\n",
      "ite 57: a_56 = 1.0000, b_56 = 1.2000, p_57 = 1.00000 | e_abs: 3.876122e-12\n",
      "ite 58: a_57 = 1.0000, b_57 = 1.2000, p_58 = 1.00000 | e_abs: 2.382872e-12\n",
      "ite 59: a_58 = 1.0000, b_58 = 1.2000, p_59 = 1.00000 | e_abs: 1.464939e-12\n",
      "ite 60: a_59 = 1.0000, b_59 = 1.2000, p_60 = 1.00000 | e_abs: 9.006129e-13\n",
      "ite 61: a_60 = 1.0000, b_60 = 1.2000, p_61 = 1.00000 | e_abs: 5.536682e-13\n",
      "ite 62: a_61 = 1.0000, b_61 = 1.2000, p_62 = 1.00000 | e_abs: 3.403944e-13\n",
      "ite 63: a_62 = 1.0000, b_62 = 1.2000, p_63 = 1.00000 | e_abs: 2.092770e-13\n",
      "ite 64: a_63 = 1.0000, b_63 = 1.2000, p_64 = 1.00000 | e_abs: 1.286748e-13\n",
      "ite 65: a_64 = 1.0000, b_64 = 1.2000, p_65 = 1.00000 | e_abs: 7.904788e-14\n",
      "ite 66: a_65 = 1.0000, b_65 = 1.2000, p_66 = 1.00000 | e_abs: 4.862777e-14\n",
      "ite 67: a_66 = 1.0000, b_66 = 1.2000, p_67 = 1.00000 | e_abs: 2.986500e-14\n",
      "ite 68: a_67 = 1.0000, b_67 = 1.2000, p_68 = 1.00000 | e_abs: 1.842970e-14\n",
      "ite 69: a_68 = 1.0000, b_68 = 1.2000, p_69 = 1.00000 | e_abs: 1.132427e-14\n",
      "ite 70: a_69 = 1.0000, b_69 = 1.2000, p_70 = 1.00000 | e_abs: 6.883383e-15\n",
      "ite 71: a_70 = 1.0000, b_70 = 1.2000, p_71 = 1.00000 | e_abs: 4.329870e-15\n",
      "ite 72: a_71 = 1.0000, b_71 = 1.2000, p_72 = 1.00000 | e_abs: 2.553513e-15\n",
      "ite 73: a_72 = 1.0000, b_72 = 1.2000, p_73 = 1.00000 | e_abs: 1.665335e-15\n",
      "ite 74: a_73 = 1.0000, b_73 = 1.2000, p_74 = 1.00000 | e_abs: 9.992007e-16\n",
      ">>> Solución encontrada después de 74 iteraciones: x->0.999999999999998\n"
     ]
    },
    {
     "data": {
      "text/plain": [
       "0.9999999999999984"
      ]
     },
     "execution_count": 6,
     "metadata": {},
     "output_type": "execute_result"
    }
   ],
   "source": [
    "met_regula_falsi(f, 0, 1.2, tol=1e-15, n=500)"
   ]
  }
 ],
 "metadata": {
  "kernelspec": {
   "display_name": "Python 3.7.9 64-bit",
   "language": "python",
   "name": "python3"
  },
  "language_info": {
   "codemirror_mode": {
    "name": "ipython",
    "version": 3
   },
   "file_extension": ".py",
   "mimetype": "text/x-python",
   "name": "python",
   "nbconvert_exporter": "python",
   "pygments_lexer": "ipython3",
   "version": "3.7.9"
  },
  "vscode": {
   "interpreter": {
    "hash": "d983aa2a2bc164ca145b74c30a077245dc65a11395320957faf99b524e3477cb"
   }
  }
 },
 "nbformat": 4,
 "nbformat_minor": 0
}
