{
 "cells": [
  {
   "cell_type": "markdown",
   "metadata": {
    "pycharm": {
     "name": "#%% md\n"
    }
   },
   "source": [
    "# 1.5 Método de *punto fijo*"
   ]
  },
  {
   "cell_type": "markdown",
   "metadata": {
    "pycharm": {
     "name": "#%% md\n"
    }
   },
   "source": [
    "[![Open In Colab](https://colab.research.google.com/assets/colab-badge.svg)](https://colab.research.google.com/github/caramirezs/MetNum_202210/blob/main/1_Ecuaciones_de_una_variable/1.5_Metodo_de_punto_fijo.ipynb)"
   ]
  },
  {
   "cell_type": "code",
   "execution_count": 4,
   "metadata": {},
   "outputs": [],
   "source": [
    "import math\n",
    "import numpy as np\n",
    "import sympy as sp\n",
    "import matplotlib.pyplot as plt"
   ]
  },
  {
   "cell_type": "markdown",
   "metadata": {},
   "source": [
    "## Funciones en python"
   ]
  },
  {
   "cell_type": "code",
   "execution_count": 5,
   "metadata": {},
   "outputs": [],
   "source": [
    "def graficar(f, x_i, x_f, num=1000):\n",
    "        plt.style.use('seaborn')\n",
    "        plt.ion()\n",
    "        \"\"\"\n",
    "        Gráfica de funciones algebraicas\n",
    "        :param f: función, previamente definida\n",
    "        :param x_i: límite inferior del intervalo\n",
    "        :param x_f: límite superior del intervalo\n",
    "        :param num: división del intervalo\n",
    "        :return: gráfica de la función\n",
    "        \"\"\"\n",
    "        x = np.linspace(x_i, x_f, num)\n",
    "        fig, ax = plt.subplots(figsize=(20, 8))\n",
    "        ax.plot(x, f(x))\n",
    "        xmin, xmax = ax.get_xlim()\n",
    "        ymin, ymax = ax.get_ylim()\n",
    "        ax.annotate(\"\", xy=(xmax, 0), xytext=(xmin, 0), arrowprops=dict(color='gray', width=1.5, headwidth=8, headlength=10))\n",
    "        ax.annotate(\"\", xy=(0, ymax), xytext=(0, ymin), arrowprops=dict(color='gray', width=1.5, headwidth=8, headlength=10))\n",
    "        #plt.show()\n",
    "        \n",
    "        return None\n",
    "    \n",
    "def met_punto_fijo(g, p_0, tol=1e-4, n=200, verbose=True, print_error=False, deploy_error=False):\n",
    "        \"\"\"\n",
    "        Método del punto fijo\n",
    "        :param g: Funcion transformada -> punto fijo\n",
    "        :param p_0: semilla\n",
    "        :param tol: toleracia, criterio de parada\n",
    "        :param n: número máximo de iteraciones, criterio de parada\n",
    "        :param verbose:\n",
    "        :param print_error:\n",
    "        :param deploy_error:\n",
    "        :return: solución exacta o aproximada, si tiene.\n",
    "        \"\"\"\n",
    "        i = 1\n",
    "        lista_errores = list()\n",
    "        while i <= n:\n",
    "            try:\n",
    "                p_i = g(p_0)\n",
    "                e_abs = abs(p_0 - p_i)\n",
    "                lista_errores.append(e_abs)\n",
    "                if verbose:\n",
    "                    print(f'ite {i:<2}: p_{i - 1:<2}={p_0:.5f} p_{i:<2}={p_i:.7f}'\n",
    "                    f' | e_abs: {e_abs:e}')\n",
    "                if g(p_i) == p_i:\n",
    "                    if print_error:\n",
    "                        print(f'error x iteración: {lista_errores}')\n",
    "                    print(f'>>> Solución exacta encontrada después de {i} iteraciones: x->{p_i:.15f}')\n",
    "                    if deploy_error:\n",
    "                        return lista_errores, p_i\n",
    "                    else:\n",
    "                        return p_i\n",
    "\n",
    "                if e_abs < tol:\n",
    "                    if print_error:\n",
    "                        print(f'error x iteración: {lista_errores}')\n",
    "                    print(f'>>> Solución encontrada después de {i} iteraciones: x->{p_i:.15f}')\n",
    "                    if deploy_error:\n",
    "                        return lista_errores, p_i\n",
    "                    else:\n",
    "                        return p_i\n",
    "\n",
    "            except OverflowError:\n",
    "                print('solución no encontrada, OverflowError')\n",
    "                return None\n",
    "            p_0 = p_i\n",
    "            i += 1\n",
    "        print('solución no encontrada, iteraciones agotadas')\n",
    "        return None    "
   ]
  },
  {
   "cell_type": "markdown",
   "metadata": {},
   "source": [
    "- Un *punto fijo* para una función es un número en el que el valor de la función no cambia cuando se aplica la función.\n",
    "\n",
    "- El número p es un *punto fijo* para una función dada $g$ si $g(p) = p$\n",
    "\n",
    "En esta sección, consideramos el problema de encontrar soluciones para los problemas de *punto fijo* y la conexión entre los problemas *punto fijo* y aquellos para encontrar la raíz que queremos resolver. Los problemas para encontrar la raíz de *punto fijo* son clase equivalentes en el siguiente sentido:\n",
    "\n",
    "* Dado un problema para encontrar la raíz $f(p)=  50$, podemos definir funciones $g$ con un *punto fijo* en $p$ en diferentes formas, por ejemplo,\n",
    "\n",
    "\n",
    "$g(x) = x − f(x)$ o  $g(x) = x + 3 f(x)$\n",
    "\n",
    "\n",
    "* Por otra parte, si la función $g$ tiene un punto fijo en $p$, entonces la función definida por \n",
    "\n",
    "\\begin{equation}\n",
    "f (x) = x − g(x)\n",
    "\\end{equation}\n",
    "\n",
    "\n",
    "tiene un cero en p.\n",
    "\n",
    "A pesar de que los problemas que queremos resolver se encuentran en la forma para encontrar la raíz, la forma del punto fijo es más fácil analizar y ciertas elecciones de  *punto fijo* conducen a técnicas muy poderosas para encontrar la raíz\n",
    "\n",
    "Ahora, para calcular una aproximación de un punto fijo de una función $g$ es posible aplicar el siguiente\n",
    "procedimiento:\n",
    "\n",
    "1. Seleccionar un punto inicial $p_0$.\n",
    "2. Calcular $g(p_0)$ y nombrarlo como $p_1$.\n",
    "3. Si $g(p_1) \\neq p_1$, repetir los pasos 2 y 3 para $p_1$.\n",
    "   \n",
    "Este procedimiento recibe el nombre de método de punto fijo.\n",
    "\n",
    "### El **método** explicado paso a paso:\n",
    "\n",
    "**Paso 1:**  Obtener la transformación  $ x = g(x_i)$\n",
    "\n",
    "**Paso 2:**  La raíz aproximada de  $x_{i+1} = g(x_i)$\n",
    "\n",
    "**Paso 3:**  Calcular el error: \n",
    "\n",
    "$e = |\\frac{x_{i-1} - x_i}{x_{x-1}}|$\n",
    "\n",
    "$eabs =  |x_i - x_{i-1}|$\n",
    "\n",
    "\n",
    "**Gráficamente de puede interpretar el método de punto fijo**\n",
    "\n",
    "<img src=\"imagenes/mpuntofijo1.png\"/>\n",
    "\n",
    "*Imagen del libro Matemáticas para ingeniería. Métodos numéricos*\n",
    "\n",
    "Determine cualquier punto fijo de la función $g(x) = x2 − 2$.\n",
    "\n",
    "\n",
    "\n",
    "un *punto fijo* de p para g tiene la propiedad de que\n",
    "\n",
    "\n",
    "\\begin{equation}\n",
    "p = g(p) = p^2 − 2\n",
    "\\end{equation}\n",
    "\n",
    "\n",
    "lo cual implica que\n",
    "\n",
    "\\begin{equation}\n",
    "0 = p^2 − p − 2 = (p + 1)(p − 2).\n",
    "\\end{equation}\n",
    "\n",
    "Un punto fijo para $g$ ocurre precisamente cuando la gráfica de $y=g(x)$ intersecta la gráfica $\"y = x\"$, por lo $g$ tiene dos puntos fijos $p = -1$ y el otro en $p = 2$.\n",
    "\n",
    "**Gráficamente de puede interpretar el métedo de punto fijo**\n",
    "\n",
    "<img src=\"imagenes/mpuntofijo2.png\"/>\n",
    "\n",
    "*Imagen del libro de Burden - Análisis numérico 10ed (2017)*\n",
    "\n",
    "***************"
   ]
  },
  {
   "cell_type": "markdown",
   "metadata": {},
   "source": [
    "### Ejemplo práctico 1\n",
    "\n",
    "Resolver la ecuación $e^x - 3sin(x) - 3x = 0$\n",
    "\n",
    "1. Donde su semille es $p_o$=2.5:\n",
    "\n",
    "\n",
    "**Datos:**\n",
    "\n",
    "$f(x) = 2*e^x - 5x$\n",
    "\n",
    "$x = 0.4e{x}$\n",
    "\n",
    "$x_0 = 0$\n",
    "\n",
    "\n",
    "**Procedimiento:**\n",
    "\n",
    "**Paso 1:** Se recomeinda graficar antes de empezar el calculo\n",
    "\n",
    "**Paso 2:** Optener la ríz aproximada de $x_{i+1}$\n",
    "\n",
    "\\begin{equation}\n",
    "x_{i+1} = g(x_i)\n",
    "\\end{equation}\n",
    "\n",
    "**Paso 3:** Calcular el error\n",
    "\n",
    "\\begin{equation}\n",
    "e = |\\frac {x_{i+1} - x_i}{x_{i+1}}|\n",
    "\\end{equation}\n",
    "\n",
    "\n",
    "*Nota:* El procedimiento de los *Pasos del 2 al 5* se realizan ejecutando el *met_punto_fijo()*"
   ]
  },
  {
   "cell_type": "code",
   "execution_count": 17,
   "metadata": {},
   "outputs": [
    {
     "data": {
      "image/png": "[encoded data removed]",
      "text/plain": [
       "<Figure size 1440x576 with 1 Axes>"
      ]
     },
     "metadata": {},
     "output_type": "display_data"
    }
   ],
   "source": [
    "f = lambda x: 2*np.exp(x) - 5*x\n",
    "graficar(f, 0, 2.5)\n"
   ]
  },
  {
   "cell_type": "code",
   "execution_count": 18,
   "metadata": {},
   "outputs": [
    {
     "name": "stdout",
     "output_type": "stream",
     "text": [
      "ite 1 : p_0 =0.00000 p_1 =0.4000000 | e_abs: 4.000000e-01\n",
      "ite 2 : p_1 =0.40000 p_2 =0.5967299 | e_abs: 1.967299e-01\n",
      "ite 3 : p_2 =0.59673 p_3 =0.7264680 | e_abs: 1.297381e-01\n",
      "ite 4 : p_3 =0.72647 p_4 =0.8271057 | e_abs: 1.006377e-01\n",
      "ite 5 : p_4 =0.82711 p_5 =0.9146763 | e_abs: 8.757061e-02\n",
      "ite 6 : p_5 =0.91468 p_6 =0.9983869 | e_abs: 8.371057e-02\n",
      "ite 7 : p_6 =0.99839 p_7 =1.0855602 | e_abs: 8.717330e-02\n",
      "ite 8 : p_7 =1.08556 p_8 =1.1844393 | e_abs: 9.887907e-02\n",
      "ite 9 : p_8 =1.18444 p_9 =1.3075414 | e_abs: 1.231021e-01\n",
      "ite 10: p_9 =1.30754 p_10=1.4788291 | e_abs: 1.712877e-01\n",
      "ite 11: p_10=1.47883 p_11=1.7551220 | e_abs: 2.762929e-01\n",
      "ite 12: p_11=1.75512 p_12=2.3136614 | e_abs: 5.585394e-01\n",
      "ite 13: p_12=2.31366 p_13=4.0445515 | e_abs: 1.730890e+00\n",
      "ite 14: p_13=4.04455 p_14=22.8342305 | e_abs: 1.878968e+01\n",
      "ite 15: p_14=22.83423 p_15=3302480722.4422755 | e_abs: 3.302481e+09\n",
      "ite 16: p_15=3302480722.44228 p_16=inf | e_abs: inf\n",
      ">>> Solución exacta encontrada después de 16 iteraciones: x->inf\n"
     ]
    },
    {
     "name": "stderr",
     "output_type": "stream",
     "text": [
      "c:\\Users\\MSI\\AppData\\Local\\Programs\\Python\\Python37\\lib\\site-packages\\ipykernel_launcher.py:1: RuntimeWarning: overflow encountered in exp\n",
      "  \"\"\"Entry point for launching an IPython kernel.\n"
     ]
    },
    {
     "data": {
      "text/plain": [
       "inf"
      ]
     },
     "execution_count": 18,
     "metadata": {},
     "output_type": "execute_result"
    }
   ],
   "source": [
    "g = lambda x: 0.4*np.exp(x)\n",
    "p_0 = 0\n",
    "# Función que grafica\n",
    "met_punto_fijo(g, p_0, tol=1e-4, n=200, verbose=True, print_error=False, deploy_error=False)"
   ]
  }
 ],
 "metadata": {
  "kernelspec": {
   "display_name": "Python 3 (ipykernel)",
   "language": "python",
   "name": "python3"
  },
  "language_info": {
   "codemirror_mode": {
    "name": "ipython",
    "version": 3
   },
   "file_extension": ".py",
   "mimetype": "text/x-python",
   "name": "python",
   "nbconvert_exporter": "python",
   "pygments_lexer": "ipython3",
   "version": "3.7.9"
  },
  "vscode": {
   "interpreter": {
    "hash": "d983aa2a2bc164ca145b74c30a077245dc65a11395320957faf99b524e3477cb"
   }
  }
 },
 "nbformat": 4,
 "nbformat_minor": 1
}
