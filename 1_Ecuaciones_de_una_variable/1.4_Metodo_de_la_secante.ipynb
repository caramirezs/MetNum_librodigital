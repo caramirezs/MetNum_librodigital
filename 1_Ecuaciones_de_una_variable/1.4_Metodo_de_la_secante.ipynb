{
 "cells": [
  {
   "cell_type": "markdown",
   "metadata": {
    "collapsed": true,
    "pycharm": {
     "name": "#%% md\n"
    }
   },
   "source": [
    "# 1.4 Método de la *secante*"
   ]
  },
  {
   "cell_type": "markdown",
   "metadata": {
    "collapsed": false,
    "pycharm": {
     "name": "#%% md\n"
    }
   },
   "source": [
    "[![Open In Colab](https://colab.research.google.com/assets/colab-badge.svg)](https://colab.research.google.com/github/caramirezs/MetNum_202210/blob/main/1_Ecuaciones_de_una_variable/1.4_Metodo_de_la_secante.ipynb)"
   ]
  },
  {
   "cell_type": "code",
   "execution_count": 2,
   "metadata": {},
   "outputs": [],
   "source": [
    "import math\n",
    "import numpy as np\n",
    "import sympy as sp\n",
    "import matplotlib.pyplot as plt"
   ]
  },
  {
   "cell_type": "markdown",
   "metadata": {},
   "source": [
    "## Funciones en python"
   ]
  },
  {
   "cell_type": "code",
   "execution_count": 1,
   "metadata": {},
   "outputs": [],
   "source": [
    "\n",
    "def graficar(f, x_i, x_f, num=1000):\n",
    "        plt.style.use('seaborn')\n",
    "        plt.ion()\n",
    "        \"\"\"\n",
    "        Gráfica de funciones algebraicas\n",
    "        :param f: función, previamente definida\n",
    "        :param x_i: límite inferior del intervalo\n",
    "        :param x_f: límite superior del intervalo\n",
    "        :param num: división del intervalo\n",
    "        :return: gráfica de la función\n",
    "        \"\"\"\n",
    "        x = np.linspace(x_i, x_f, num)\n",
    "        fig, ax = plt.subplots(figsize=(20, 8))\n",
    "        ax.plot(x, f(x))\n",
    "        xmin, xmax = ax.get_xlim()\n",
    "        ymin, ymax = ax.get_ylim()\n",
    "        ax.annotate(\"\", xy=(xmax, 0), xytext=(xmin, 0), arrowprops=dict(color='gray', width=1.5, headwidth=8, headlength=10))\n",
    "        ax.annotate(\"\", xy=(0, ymax), xytext=(0, ymin), arrowprops=dict(color='gray', width=1.5, headwidth=8, headlength=10))\n",
    "        #plt.show()\n",
    "        \n",
    "        return None\n",
    "    \n",
    "def met_secante(f, p_m, p_n, tol=1e-4, n=50, verbose=True, print_error=False, deploy_error=False):\n",
    "        \"\"\"\n",
    "        Método de la Secante\n",
    "        :param f: Funcion a la que se le intenta encontrar una solucion\n",
    "        para la ecuacion f(x)=0, previamente definida\n",
    "        :param p_m: semilla 1\n",
    "        :param p_n: semilla 2\n",
    "        :param tol: toleracia, criterio de parada\n",
    "        :param n: número máximo de iteraciones, criterio de parada\n",
    "        :param verbose:\n",
    "        :param print_error:\n",
    "        :param deploy_error:\n",
    "        :return: solución exacta o aproximada, si tiene.\n",
    "        \"\"\"\n",
    "        i = 1\n",
    "        lista_errores = list()\n",
    "        while i <= n:\n",
    "            if f(p_m) == f(p_n):\n",
    "                print('Solución no encontrada (recta secante horizontal)')\n",
    "                return None\n",
    "\n",
    "            p_i = p_n - (f(p_n) * (p_m - p_n)) / (f(p_m) - f(p_n))\n",
    "\n",
    "            e_abs = abs(p_n - p_i)\n",
    "            lista_errores.append(e_abs)\n",
    "            if verbose:\n",
    "                print(f'ite {i:<2}: [p_{i - 2:<2}={p_m:.5f}, p_{i - 1:<2}={p_n:.5f}] p_{i:<2}={p_i:.7f}'\n",
    "                f' | e_abs: {e_abs:e}')\n",
    "            if f(p_i) == 0:\n",
    "                if print_error:\n",
    "                    print(f'error x iteración: {lista_errores}')\n",
    "                print(f'>>> Solución exacta encontrada después de {i} iteraciones: x->{p_i:.15f}')\n",
    "                if deploy_error:\n",
    "                    return lista_errores, p_i\n",
    "                else:\n",
    "                    return p_i\n",
    "\n",
    "            if e_abs < tol:\n",
    "                if print_error:\n",
    "                    print(f'error x iteración: {lista_errores}')\n",
    "                print(f'>>> Solución encontrada después de {i} iteraciones: x->{p_i:.15f}')\n",
    "                if deploy_error:\n",
    "                    return lista_errores, p_i\n",
    "                else:\n",
    "                    return p_i\n",
    "\n",
    "            p_m = p_n\n",
    "            p_n = p_i\n",
    "\n",
    "            i += 1\n",
    "        if print_error:\n",
    "            print(f'error x iteración: {lista_errores}')\n",
    "        print('solución no encontrada, iteraciones agotadas')\n",
    "        return None"
   ]
  },
  {
   "cell_type": "markdown",
   "metadata": {},
   "source": [
    "El método de Newton es una técnica en extremo poderosa, pero tiene una debilidad importante: la necesidad de conocer el valor de la derivada de f en cada aproximación. Con frecuencia, $f'(x)$ es mucho más difícil y necesita más operaciones aritméticas para calcular $f(x)$.\n",
    "\n",
    "Para evitar el problema de la derivada del método de Newton, presentamos un aligera variación. Por definición,\n",
    "\n",
    "\\begin{equation}\n",
    "f'(p_{n-1}) = \\lim_{x \\to p_{n-1}} \\frac{f(x) - f(p_{n-1})}{x - p_{n-1}}\n",
    "\\end{equation}\n",
    "\n",
    "Si $p_{n–2}$ está cerca de $p_{n–1}$, entonces\n",
    "\n",
    "\\begin{equation}\n",
    "f'(p_{n-1}) ≈ \\frac{f(p_{n-2}) - f(p_{n-1})}{p_{n-2} - p_{n-1}} = \\frac{f(p_{n-1}) - p_{n-2}) }{p_{n-1} - p_{n-2}}\n",
    "\\end{equation}\n",
    "\n",
    "Usando esta aproximación para $f'(p_n–1)$ en la fórmula de Newton obtenemos\n",
    "\n",
    "\n",
    "\n",
    "\\begin{equation}\n",
    "p_n = p_{n-1} -\\frac{f(p_{n-1}) - (p_{n-1}-p_{n-2})}{f(p_{n-1}) - f(p_{n-2})} \n",
    "\\end{equation}\n",
    "\n",
    "La anterior fórmula de iteración se denomina método de la secante . Es de anotar, que para utilizar\n",
    "el anterior método son necesarias dos aproximaciones iniciales (semillas) $p_0$   y   $p_1$. Una interpretación\n",
    "geométrica del método de la secante es la siguiente:\n",
    "\n",
    "\n",
    "1. Seleccionar dos puntos iniciales $p_0$ y $p_1$.\n",
    "2. Calcular la ecuación de la recta que pasa por los puntos $( p_0, f( p_0))$ y $(p_1, f(p_1))$.\n",
    "3. Determinar el corte con el eje x de la anterior recta y nombrarlo como p2.\n",
    "4. Si $f(p_2) \\neq 0$, repetir los pasos 2, 3 y 4 para $p_1$ y $p_2$.\n",
    "\n",
    "\n",
    "### El **método** explicado paso a paso\n",
    "\n",
    "**Paso 1:** Seleccionar dos puntos iniciales $p_0$ y $p_1$.\n",
    "\n",
    "**Paso 2:** Calcular la ecuación de la recta que pasa por los puntos $( p_0, f( p_0))$ y $(p_1, f(p_1))$.\n",
    "\n",
    "**Paso 3:**  Determinar el corte con el eje x de la anterior recta y nombrarlo como p2.\n",
    "\\begin{equation}\n",
    "p_{i+1} = p_{i} -\\frac{f(p_{i}) - (p_{n-1}-p_{i})}{f(p_{i-1}) - f(p_{i})}\n",
    "\\end{equation}\n",
    "\n",
    "*Paso 4:* Si $f(p_2) \\neq 0$, repetir los pasos 2, 3 y 4 para $p_1$ y $p_2$.\n",
    "\n",
    "*Paso 5:*  Evaluar el error:\n",
    "\n",
    "$e = \\frac {x_{i+1} - x_i}{x_{i+1}} $\n",
    "\n",
    "**Gráficamente de puede interpretar el métedo de Newton-Raphson**\n",
    "\n",
    "<img src=\"imagenes/msecante.png\"/>\n",
    "\n",
    "*Imagen del libro de Burden - Análisis numérico 10ed (2017)*\n",
    "\n",
    "\n",
    "**********\n",
    "\n",
    "\n",
    "\n",
    "\n",
    "\n",
    "\n",
    "\n"
   ]
  },
  {
   "cell_type": "markdown",
   "metadata": {},
   "source": [
    "### Ejemplo práctico 1\n",
    "\n",
    "Resolver la ecuación $e^x - \\sin(x) $\n",
    "\n",
    "\n",
    "#### Datos:\n",
    "\n",
    "$f(x) = e^x - \\sin(x) $\n",
    "\n",
    "$P_0 =  0.25$\n",
    "\n",
    "$P_1 =  0.5$\n",
    "\n",
    "**Procedimiento:**\n",
    "\n",
    "**Paso 1:** Se recomiennda graficar antes de empezar el calculo\n",
    "\n",
    "**Paso 2:** Seleccionar las dos semillas $p_0, p_1$\n",
    "\n",
    "**Paso 3:**  Determinar el corte con el eje x de la anterior recta y nombrarlo como p2.\n",
    "\\begin{equation}\n",
    "p_{i+1} = p_{i} -\\frac{f(p_{i}) - (p_{n-1}-p_{i})}{f(p_{i-1}) - f(p_{i})}\n",
    "\\end{equation}\n",
    "\n",
    "\n",
    "**Paso 4:** Si $f(p_2) \\neq 0$, repetir los pasos 2, 3 y 4 para $p_1$ y $p_2$.\n",
    "\n",
    "\n",
    "\n"
   ]
  },
  {
   "cell_type": "code",
   "execution_count": 4,
   "metadata": {},
   "outputs": [
    {
     "data": {
      "image/png": "[encoded data removed]",
      "text/plain": [
       "<Figure size 1440x576 with 1 Axes>"
      ]
     },
     "metadata": {},
     "output_type": "display_data"
    }
   ],
   "source": [
    "f = lambda x: np.exp(-x) - np.sin(x)\n",
    "graficar(f, 0, 2.5)"
   ]
  },
  {
   "cell_type": "code",
   "execution_count": 5,
   "metadata": {},
   "outputs": [
    {
     "name": "stdout",
     "output_type": "stream",
     "text": [
      "ite 1 : [p_-1=0.25000, p_0 =0.50000] p_1 =0.5785974 | e_abs: 7.859741e-02\n",
      "ite 2 : [p_0 =0.50000, p_1 =0.57860] p_2 =0.5881967 | e_abs: 9.599272e-03\n",
      "ite 3 : [p_1 =0.57860, p_2 =0.58820] p_3 =0.5885314 | e_abs: 3.347328e-04\n",
      "ite 4 : [p_2 =0.58820, p_3 =0.58853] p_4 =0.5885327 | e_abs: 1.329697e-06\n",
      "ite 5 : [p_3 =0.58853, p_4 =0.58853] p_5 =0.5885327 | e_abs: 1.788626e-10\n",
      ">>> Solución exacta encontrada después de 5 iteraciones: x->0.588532743981861\n"
     ]
    },
    {
     "data": {
      "text/plain": [
       "0.5885327439818611"
      ]
     },
     "execution_count": 5,
     "metadata": {},
     "output_type": "execute_result"
    }
   ],
   "source": [
    "met_secante(f, 0.25, 0.5, 1e-15)"
   ]
  }
 ],
 "metadata": {
  "kernelspec": {
   "display_name": "Python 3.7.9 64-bit",
   "language": "python",
   "name": "python3"
  },
  "language_info": {
   "codemirror_mode": {
    "name": "ipython",
    "version": 3
   },
   "file_extension": ".py",
   "mimetype": "text/x-python",
   "name": "python",
   "nbconvert_exporter": "python",
   "pygments_lexer": "ipython3",
   "version": "3.7.9"
  },
  "vscode": {
   "interpreter": {
    "hash": "d983aa2a2bc164ca145b74c30a077245dc65a11395320957faf99b524e3477cb"
   }
  }
 },
 "nbformat": 4,
 "nbformat_minor": 0
}
