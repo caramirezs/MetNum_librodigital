{
 "cells": [
  {
   "cell_type": "markdown",
   "metadata": {
    "collapsed": true,
    "pycharm": {
     "name": "#%% md\n"
    }
   },
   "source": [
    "# 1.3 Método de *Newton-Raphson*"
   ]
  },
  {
   "cell_type": "markdown",
   "metadata": {
    "pycharm": {
     "name": "#%% md\n"
    }
   },
   "source": [
    "[![Open In Colab](https://colab.research.google.com/assets/colab-badge.svg)](https://colab.research.google.com/github/caramirezs/MetNum_202210/blob/main/1_Ecuaciones_de_una_variable/1.3_Metodo_de_Newton-Raphson.ipynb)"
   ]
  },
  {
   "cell_type": "code",
   "execution_count": 7,
   "metadata": {
    "pycharm": {
     "name": "#%%\n"
    }
   },
   "outputs": [],
   "source": [
    "import math\n",
    "import numpy as np\n",
    "import sympy as sp\n",
    "import matplotlib.pyplot as plt"
   ]
  },
  {
   "cell_type": "markdown",
   "metadata": {},
   "source": [
    "# Funciones en python"
   ]
  },
  {
   "cell_type": "code",
   "execution_count": 8,
   "metadata": {},
   "outputs": [],
   "source": [
    "def graficar(f, x_i, x_f, num=1000):\n",
    "        plt.style.use('seaborn')\n",
    "        plt.ion()\n",
    "        \"\"\"\n",
    "        Gráfica de funciones algebraicas\n",
    "        :param f: función, previamente definida\n",
    "        :param x_i: límite inferior del intervalo\n",
    "        :param x_f: límite superior del intervalo\n",
    "        :param num: división del intervalo\n",
    "        :return: gráfica de la función\n",
    "        \"\"\"\n",
    "        x = np.linspace(x_i, x_f, num)\n",
    "        fig, ax = plt.subplots(figsize=(20, 8))\n",
    "        ax.plot(x, f(x))\n",
    "        xmin, xmax = ax.get_xlim()\n",
    "        ymin, ymax = ax.get_ylim()\n",
    "        ax.annotate(\"\", xy=(xmax, 0), xytext=(xmin, 0), arrowprops=dict(color='gray', width=1.5, headwidth=8, headlength=10))\n",
    "        ax.annotate(\"\", xy=(0, ymax), xytext=(0, ymin), arrowprops=dict(color='gray', width=1.5, headwidth=8, headlength=10))\n",
    "        #plt.show()\n",
    "        \n",
    "        return None\n",
    "\n",
    "def met_newton_raphson(f, df, p_0, tol=1e-4, n=50, verbose=True, print_error=False, deploy_error=False):\n",
    "        \"\"\"\n",
    "        Método de Newton-Rapphson\n",
    "        :param f: Funcion a la que se le intenta encontrar una solucion\n",
    "        para la ecuacion f(x)=0, previamente definida\n",
    "        :param df: Derivada de la función\n",
    "        :param p_0: semilla, valor inicial\n",
    "        :param tol: toleracia, criterio de parada\n",
    "        :param n: número máximo de iteraciones, criterio de parada\n",
    "        :param verbose:\n",
    "        :param print_error:\n",
    "        :param deploy_error:\n",
    "        :return: solución exacta o aproximada, si tiene.\n",
    "        \"\"\"\n",
    "        i = 1\n",
    "        lista_errores = list()\n",
    "        while i <= n:\n",
    "            if df(p_0) == 0:\n",
    "                print('Solución no encontrada (df(x)=0)')\n",
    "                return None\n",
    "\n",
    "            p_i = p_0 - f(p_0) / df(p_0)\n",
    "            e_abs = abs(p_0 - p_i)\n",
    "            lista_errores.append(e_abs)\n",
    "            if verbose:\n",
    "                print(f'ite {i:<2}: p_{i - 1:<2} = {p_0:.4f}, p_{i:<2} = {p_i:.5f}'\n",
    "                    f' | e_abs: {e_abs:e}')\n",
    "\n",
    "            if f(p_i) == 0:\n",
    "                if print_error:\n",
    "                    print(f'error x iteración: {lista_errores}')\n",
    "                print(f'>>> Solución exacta encontrada después de {i} iteraciones: x->{p_i:.15f}')\n",
    "                if deploy_error:\n",
    "                    return lista_errores, p_i\n",
    "                else:\n",
    "                    return p_i\n",
    "\n",
    "            if e_abs < tol:\n",
    "                if print_error:\n",
    "                    print(f'error x iteración: {lista_errores}')\n",
    "                print(f'>>> Solución encontrada después de {i} iteraciones: x->{p_i:.15f}')\n",
    "                if deploy_error:\n",
    "                    return lista_errores, p_i\n",
    "                else:\n",
    "                    return p_i\n",
    "\n",
    "            p_0 = p_i\n",
    "            i += 1\n",
    "        if print_error:\n",
    "            print(f'error x iteración: {lista_errores}')\n",
    "        print('solución no encontrada, iteraciones agotadas')\n",
    "        return None    \n",
    "    "
   ]
  },
  {
   "cell_type": "markdown",
   "metadata": {},
   "source": [
    "El __método de newton__ (o de *Newton-Raphson*) es uno de los métodos numéricos más poderosos\n",
    "y reconocidos para resolver un problema de encontrar la raíz. Existen muchas formas\n",
    "de presentar el método de Newton.\n",
    "\n",
    "## Método de newton\n",
    "\n",
    "Si sólo a menudo se hace en cálculo. Otra posibilidad es derivar el método de Newton como una técnica para obtener convergencia más rápida de lo que ofrecen otros tipos de iteración funcional, como hacemos en la sección 2.4. Una tercera forma para presentar el método de Newton, que se analiza a continuación, está basada en los polinomios de Taylor. Ahí observaremos que esta forma particular no sólo produce el método, sino también una cota para el error de aproximación.\n",
    "\n",
    "Suponga que $f∈ C^2[a, b]$. Si $p_0 ∈ [a, b]$ es una aproximación para $p$, de tal forma que $f'(p_0)\\neq 0$ y $|p-p_0|$ es \"pequeño\". Considere que un primer polinimio de Taylor para $f(x)$ expendido alrededor de $p_0$ y evaluado en $x=p$:\n",
    "\n",
    "\\begin{equation}\n",
    "f(p) = f(p_0) + (p − p_0) f'(p_0) + \\frac{(p − p_0)^2}{2} f''(ξ(p))\n",
    "\\end{equation}\n",
    "\n",
    "donde $ξ(p)$ se encuentra entre $p$ y $p_0$. Puesto que $f(p)=0$, esta ecuación nos da\n",
    "\n",
    "\\begin{equation}\n",
    "0 = f(p_0) + (p − p_0) f'(p_0) + \\frac{(p − p_0)^2}{2} f''(ξ(p))\n",
    "\\end{equation}\n",
    "\n",
    "El método de Newton se deriva al suponer que como $|p−p_0|$ es pequeño, el término relacionado con $(p-p_0)^2$ es mucho más pequeño, entonces\n",
    "\n",
    "\\begin{equation}\n",
    "0 ≈ f(p_0) + (p−p_0) f'(p0).\n",
    "\\end{equation}\n",
    "\n",
    "Al resolver para p obtenemos\n",
    "\n",
    "\\begin{equation}\n",
    "p ≈ p_0 − \\frac{f(p_0)}{f'(p_0)}≡ p1.\n",
    "\\end{equation}\n",
    "\n",
    "Esto constituye la base para el método de Newton, que empieza con una aproximación\n",
    "inicial p0 y genera la sucesión $[pn]^∞_{n=0}$, mediante\n",
    "\n",
    "\n",
    "\\begin{equation}\n",
    "p_n = p_{n-1} − \\frac{f(p_{n-1})}{f'(p_{n-1})}, para **{n\\geqq 1}**.\n",
    "\\end{equation}\n",
    "\n",
    "Ahora, la ecuación de la recta tangente a la curva $y=f(x)$ que pasa por el punto $(p_0, f(p_0))$ tiene como pendiente $m=f '(p_0) y corresponde a\n",
    "\n",
    "\\begin{equation}\n",
    "y = f'(p_0)x + [f(p_0) − f'(p_0)p_0]\n",
    "\\end{equation}\n",
    "\n",
    "para calcular el cero de esta recta se reemplaza $y$ por cero\n",
    "\n",
    "\\begin{equation}\n",
    "0 = f'(p_0)x + f(p_0) − f'(p_0)p_0\n",
    "\\end{equation}\n",
    "\n",
    "y al despejar $x$, se tiene $x = p_0 − \\frac {f(p_0)}{f'(p_0)}$. Dicho valor de x se nombra como $p_1$ y por tanto:\n",
    "\n",
    "\\begin{equation}\n",
    "p_1 = p_0 − \\frac {f(p_0)}{f'(p_0)}\n",
    "\\end{equation}\n",
    "\n",
    "Si se repite el proceso, pero ahora con el punto $(p_1, f(p_1))$, se obtiene:\n",
    "\n",
    "\\begin{equation}\n",
    "p_2 = p_1 − \\frac {f(p_1)}{f'(p_1)}\n",
    "\\end{equation}\n",
    "\n",
    "y finalmente, en la $n-ésima$ iteración\n",
    "\n",
    "\\begin{equation}\n",
    "p_n = p_{n-1} − \\frac {f(p_{n-1})}{f'(p_{n-1})}\n",
    "\\end{equation}\n",
    "\n",
    "\n",
    "### El **método** explicado paso a paso:\n",
    "\n",
    "**Paso 1:** Calcular la derivada $f'(x)$\n",
    "\n",
    "**Paso 2:**  Evaluar $f(x)$ y $f'(x)$\n",
    "\n",
    "**Paso 3:** Calcular la raíz aproximada:\n",
    "\n",
    "$x_{i+1} = x_i - \\frac {f(x)}{f'(x)}, f'(x_{i+1}) \\neq0 $\n",
    "\n",
    "que es la fórmula de iteración correspondiente al método de *Newton-Raphson*.\n",
    "\n",
    "**Paso 4:** Calcular la raíz aproximada:\n",
    "\n",
    "$e = |\\frac{x_{i-1} - x_i}{x_{x-1}}|$\n",
    "\n",
    "\n",
    "**Gráficamente  de puede interpretar el método de Newton-Raphson**\n",
    "\n",
    "<img src=\"imagenes/mnewton.png\"/>\n",
    "\n",
    "*Imagen del libro de Burden - Análisis numérico 10ed (2017)*\n",
    "\n",
    "\n",
    "**************************************\n"
   ]
  },
  {
   "cell_type": "markdown",
   "metadata": {},
   "source": [
    "### Ejemplo práctico 1\n",
    "\n",
    "Resolver la ecuación $e^x - 3sin(x) - 3x = 0$\n",
    "\n",
    "1. Donde su semilla es $p_o$=2.5:\n",
    "\n",
    "\n",
    "**Datos:**\n",
    "\n",
    "$f(x) = e^x - 3sin(x) - 3x $\n",
    "\n",
    "$f'(x) = e^x - 3cos(x) -3 $\n",
    "\n",
    "$p_o = 2.5$\n",
    "\n",
    "\n",
    "Aproximación = $10^{-5}$\n",
    "\n",
    "**Procedimiento:**\n",
    "\n",
    "*Paso 1:* Se recomienda graficar antes de empezar el calculo\n",
    "\n",
    "*Paso 2:* Calcular $f'(x)$\n",
    "\n",
    "*Paso 3:* Evaluar $f(x)$ y $f'(x)$\n",
    "\n",
    "*Paso 4:* Calcular la raíz aproximada $x_{i+1}$:\n",
    "\n",
    "\\begin{equation}\n",
    "x_{i+1} = x_i − \\frac {f(x_i)}{f'(x_i)}\n",
    "\\end{equation}\n",
    "\n",
    "*Paso 5:* Calcular el error:\n",
    "\n",
    "\\begin{equation}\n",
    "e = |\\frac {x_{i+1}-x_i}{x_{i+1}}|\n",
    "\\end{equation}\n",
    "\n",
    "*Nota:* El procedimiento de los *Pasos del 2 al 5* se realizan ejecutando el *met_biseccion()*"
   ]
  },
  {
   "cell_type": "code",
   "execution_count": 9,
   "metadata": {
    "pycharm": {
     "name": "#%%\n"
    }
   },
   "outputs": [
    {
     "data": {
      "image/png": "[encoded data removed]",
      "text/plain": [
       "<Figure size 1440x576 with 1 Axes>"
      ]
     },
     "metadata": {},
     "output_type": "display_data"
    }
   ],
   "source": [
    "f = lambda x: np.e**x - 3*np.sin(x) - 3*x\n",
    "df = lambda x: np.e**x - 3*np.cos(x) - 3\n",
    "\n",
    "graficar(f, 0, 2.5)\n"
   ]
  },
  {
   "cell_type": "code",
   "execution_count": 10,
   "metadata": {},
   "outputs": [
    {
     "name": "stdout",
     "output_type": "stream",
     "text": [
      "ite 1 : p_0  = 2.5000, p_1  = 2.25081 | e_abs: 2.491884e-01\n",
      "ite 2 : p_1  = 2.2508, p_2  = 2.20186 | e_abs: 4.895282e-02\n",
      "ite 3 : p_2  = 2.2019, p_3  = 2.20006 | e_abs: 1.795391e-03\n",
      "ite 4 : p_3  = 2.2001, p_4  = 2.20006 | e_abs: 2.370571e-06\n",
      ">>> Solución encontrada después de 4 iteraciones: x->2.200061060224872\n"
     ]
    },
    {
     "data": {
      "text/plain": [
       "2.200061060224872"
      ]
     },
     "execution_count": 10,
     "metadata": {},
     "output_type": "execute_result"
    }
   ],
   "source": [
    "met_newton_raphson(f, df, 2.5, tol=1e-4, n=1000)"
   ]
  }
 ],
 "metadata": {
  "kernelspec": {
   "display_name": "Python 3 (ipykernel)",
   "language": "python",
   "name": "python3"
  },
  "language_info": {
   "codemirror_mode": {
    "name": "ipython",
    "version": 3
   },
   "file_extension": ".py",
   "mimetype": "text/x-python",
   "name": "python",
   "nbconvert_exporter": "python",
   "pygments_lexer": "ipython3",
   "version": "3.7.9"
  },
  "vscode": {
   "interpreter": {
    "hash": "d983aa2a2bc164ca145b74c30a077245dc65a11395320957faf99b524e3477cb"
   }
  }
 },
 "nbformat": 4,
 "nbformat_minor": 1
}
